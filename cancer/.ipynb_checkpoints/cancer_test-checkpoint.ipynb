{
 "cells": [
  {
   "cell_type": "code",
   "execution_count": 21,
   "id": "82de067d",
   "metadata": {},
   "outputs": [],
   "source": [
    "import numpy as np\n",
    "import pandas as pd\n",
    "from sklearn.preprocessing import StandardScaler\n",
    "from sklearn.model_selection import train_test_split\n",
    "from sklearn.linear_model import Perceptron"
   ]
  },
  {
   "cell_type": "code",
   "execution_count": 22,
   "id": "8f3ad182",
   "metadata": {},
   "outputs": [],
   "source": [
    "file = pd.read_csv('breast_cancer.csv')"
   ]
  },
  {
   "cell_type": "code",
   "execution_count": 23,
   "id": "842b6ecd",
   "metadata": {},
   "outputs": [],
   "source": [
    "X = file[['area_mean', 'area_se', 'texture_mean', 'concavity_worst', 'concavity_mean']]"
   ]
  },
  {
   "cell_type": "code",
   "execution_count": 24,
   "id": "28287633",
   "metadata": {},
   "outputs": [],
   "source": [
    "y = file['diagnosis']\n",
    "y = y.apply(lambda d: 1 if d == 'M' else 0)"
   ]
  },
  {
   "cell_type": "code",
   "execution_count": 25,
   "id": "2823691c",
   "metadata": {},
   "outputs": [
    {
     "data": {
      "text/html": [
       "<div>\n",
       "<style scoped>\n",
       "    .dataframe tbody tr th:only-of-type {\n",
       "        vertical-align: middle;\n",
       "    }\n",
       "\n",
       "    .dataframe tbody tr th {\n",
       "        vertical-align: top;\n",
       "    }\n",
       "\n",
       "    .dataframe thead th {\n",
       "        text-align: right;\n",
       "    }\n",
       "</style>\n",
       "<table border=\"1\" class=\"dataframe\">\n",
       "  <thead>\n",
       "    <tr style=\"text-align: right;\">\n",
       "      <th></th>\n",
       "      <th>area_mean</th>\n",
       "      <th>area_se</th>\n",
       "      <th>texture_mean</th>\n",
       "      <th>concavity_worst</th>\n",
       "      <th>concavity_mean</th>\n",
       "    </tr>\n",
       "  </thead>\n",
       "  <tbody>\n",
       "    <tr>\n",
       "      <th>0</th>\n",
       "      <td>1001.0</td>\n",
       "      <td>153.40</td>\n",
       "      <td>10.38</td>\n",
       "      <td>0.7119</td>\n",
       "      <td>0.30010</td>\n",
       "    </tr>\n",
       "    <tr>\n",
       "      <th>1</th>\n",
       "      <td>1326.0</td>\n",
       "      <td>74.08</td>\n",
       "      <td>17.77</td>\n",
       "      <td>0.2416</td>\n",
       "      <td>0.08690</td>\n",
       "    </tr>\n",
       "    <tr>\n",
       "      <th>2</th>\n",
       "      <td>1203.0</td>\n",
       "      <td>94.03</td>\n",
       "      <td>21.25</td>\n",
       "      <td>0.4504</td>\n",
       "      <td>0.19740</td>\n",
       "    </tr>\n",
       "    <tr>\n",
       "      <th>3</th>\n",
       "      <td>386.1</td>\n",
       "      <td>27.23</td>\n",
       "      <td>20.38</td>\n",
       "      <td>0.6869</td>\n",
       "      <td>0.24140</td>\n",
       "    </tr>\n",
       "    <tr>\n",
       "      <th>4</th>\n",
       "      <td>1297.0</td>\n",
       "      <td>94.44</td>\n",
       "      <td>14.34</td>\n",
       "      <td>0.4000</td>\n",
       "      <td>0.19800</td>\n",
       "    </tr>\n",
       "    <tr>\n",
       "      <th>...</th>\n",
       "      <td>...</td>\n",
       "      <td>...</td>\n",
       "      <td>...</td>\n",
       "      <td>...</td>\n",
       "      <td>...</td>\n",
       "    </tr>\n",
       "    <tr>\n",
       "      <th>564</th>\n",
       "      <td>1479.0</td>\n",
       "      <td>158.70</td>\n",
       "      <td>22.39</td>\n",
       "      <td>0.4107</td>\n",
       "      <td>0.24390</td>\n",
       "    </tr>\n",
       "    <tr>\n",
       "      <th>565</th>\n",
       "      <td>1261.0</td>\n",
       "      <td>99.04</td>\n",
       "      <td>28.25</td>\n",
       "      <td>0.3215</td>\n",
       "      <td>0.14400</td>\n",
       "    </tr>\n",
       "    <tr>\n",
       "      <th>566</th>\n",
       "      <td>858.1</td>\n",
       "      <td>48.55</td>\n",
       "      <td>28.08</td>\n",
       "      <td>0.3403</td>\n",
       "      <td>0.09251</td>\n",
       "    </tr>\n",
       "    <tr>\n",
       "      <th>567</th>\n",
       "      <td>1265.0</td>\n",
       "      <td>86.22</td>\n",
       "      <td>29.33</td>\n",
       "      <td>0.9387</td>\n",
       "      <td>0.35140</td>\n",
       "    </tr>\n",
       "    <tr>\n",
       "      <th>568</th>\n",
       "      <td>181.0</td>\n",
       "      <td>19.15</td>\n",
       "      <td>24.54</td>\n",
       "      <td>0.0000</td>\n",
       "      <td>0.00000</td>\n",
       "    </tr>\n",
       "  </tbody>\n",
       "</table>\n",
       "<p>569 rows × 5 columns</p>\n",
       "</div>"
      ],
      "text/plain": [
       "     area_mean  area_se  texture_mean  concavity_worst  concavity_mean\n",
       "0       1001.0   153.40         10.38           0.7119         0.30010\n",
       "1       1326.0    74.08         17.77           0.2416         0.08690\n",
       "2       1203.0    94.03         21.25           0.4504         0.19740\n",
       "3        386.1    27.23         20.38           0.6869         0.24140\n",
       "4       1297.0    94.44         14.34           0.4000         0.19800\n",
       "..         ...      ...           ...              ...             ...\n",
       "564     1479.0   158.70         22.39           0.4107         0.24390\n",
       "565     1261.0    99.04         28.25           0.3215         0.14400\n",
       "566      858.1    48.55         28.08           0.3403         0.09251\n",
       "567     1265.0    86.22         29.33           0.9387         0.35140\n",
       "568      181.0    19.15         24.54           0.0000         0.00000\n",
       "\n",
       "[569 rows x 5 columns]"
      ]
     },
     "execution_count": 25,
     "metadata": {},
     "output_type": "execute_result"
    }
   ],
   "source": [
    "scaler = StandardScaler()\n",
    "scaler.fit(X)\n",
    "X_std = scaler.transform(X)"
   ]
  },
  {
   "cell_type": "code",
   "execution_count": 26,
   "id": "1d38d225",
   "metadata": {},
   "outputs": [],
   "source": [
    "scaler = StandardScaler()\n",
    "scaler.fit(X)\n",
    "X_std = scaler.transform(X)"
   ]
  },
  {
   "cell_type": "code",
   "execution_count": 29,
   "id": "145d651f",
   "metadata": {},
   "outputs": [],
   "source": [
    "X_train, X_test, y_train, y_test = train_test_split(X_std, y, test_size=0.2)"
   ]
  },
  {
   "cell_type": "code",
   "execution_count": 34,
   "id": "e597c951",
   "metadata": {},
   "outputs": [
    {
     "data": {
      "text/plain": [
       "Perceptron(eta0=0.01, max_iter=100)"
      ]
     },
     "execution_count": 34,
     "metadata": {},
     "output_type": "execute_result"
    }
   ],
   "source": [
    "perceptron = Perceptron(eta0=0.01, max_iter=100)\n",
    "perceptron.fit(X_train, y_train)"
   ]
  },
  {
   "cell_type": "code",
   "execution_count": 35,
   "id": "e4a0505d",
   "metadata": {},
   "outputs": [],
   "source": [
    "y_pred = perceptron.predict(X_test)"
   ]
  },
  {
   "cell_type": "code",
   "execution_count": 36,
   "id": "0b9cedd9",
   "metadata": {},
   "outputs": [
    {
     "name": "stdout",
     "output_type": "stream",
     "text": [
      "result: 91.2280701754386\n"
     ]
    }
   ],
   "source": [
    "good = y_test[y_test == y_pred].count()\n",
    "total = y_test.count()\n",
    "print('result: {}'.format(100*good/total))"
   ]
  },
  {
   "cell_type": "markdown",
   "id": "54e38b11",
   "metadata": {},
   "source": [
    "### Perceptron do liczenia punktów posiadanych par D&K koloru"
   ]
  },
  {
   "cell_type": "code",
   "execution_count": null,
   "id": "7813aea3",
   "metadata": {},
   "outputs": [],
   "source": []
  }
 ],
 "metadata": {
  "kernelspec": {
   "display_name": "Python 3 (ipykernel)",
   "language": "python",
   "name": "python3"
  },
  "language_info": {
   "codemirror_mode": {
    "name": "ipython",
    "version": 3
   },
   "file_extension": ".py",
   "mimetype": "text/x-python",
   "name": "python",
   "nbconvert_exporter": "python",
   "pygments_lexer": "ipython3",
   "version": "3.9.13"
  }
 },
 "nbformat": 4,
 "nbformat_minor": 5
}
